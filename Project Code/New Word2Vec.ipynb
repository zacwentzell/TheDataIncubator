{
 "cells": [
  {
   "cell_type": "code",
   "execution_count": 108,
   "metadata": {
    "collapsed": false
   },
   "outputs": [],
   "source": [
    "import gensim\n",
    "import multiprocessing as mp\n",
    "import numpy as np\n",
    "import pandas as pd\n",
    "import spacy\n",
    "import textacy\n",
    "import textblob\n",
    "\n",
    "\n",
    "from IPython.core.debugger import Pdb\n",
    "from gensim.models.word2vec import Word2Vec\n",
    "from sklearn.metrics.pairwise import cosine_similarity\n",
    "from string import punctuation\n",
    "from toolz import curry"
   ]
  },
  {
   "cell_type": "code",
   "execution_count": 2,
   "metadata": {
    "collapsed": false
   },
   "outputs": [],
   "source": [
    "pool = mp.Pool(processes=mp.cpu_count())\n",
    "\n",
    "pdb = Pdb()\n",
    "\n",
    "ps = punctuation.replace('\\'','')"
   ]
  },
  {
   "cell_type": "code",
   "execution_count": 3,
   "metadata": {
    "collapsed": true
   },
   "outputs": [],
   "source": [
    "nlp = spacy.load('en_core_web_md')"
   ]
  },
  {
   "cell_type": "code",
   "execution_count": 6,
   "metadata": {
    "collapsed": false
   },
   "outputs": [],
   "source": [
    "textacy_preprocess = curry(textacy.preprocess_text)(fix_unicode=True, lowercase=True, no_contractions=True, no_punct=True)\n",
    "\n",
    "def preprocess(review):\n",
    "    text = review\n",
    "    \n",
    "    for punc in ps:\n",
    "        text = text.replace(punc, punc + ' ')\n",
    "    return textacy_preprocess(text)"
   ]
  },
  {
   "cell_type": "code",
   "execution_count": 40,
   "metadata": {
    "collapsed": false
   },
   "outputs": [
    {
     "data": {
      "text/plain": [
       "'We got this GPS for my husband who is an (OTR) over the road trucker.  Very Impressed with the shipping time, it arrived a few days earlier than expected...  within a week of use however it started freezing up... could of just been a glitch in that unit.  Worked great when it worked!  Will work great for the normal person as well but does have the \"trucker\" option. (the big truck routes - tells you when a scale is coming up ect...)  Love the bigger screen, the ease of use, the ease of putting addresses into memory.  Nothing really bad to say about the unit with the exception of it freezing which is probably one in a million and that\\'s just my luck.  I contacted the seller and within minutes of my email I received a email back with instructions for an exchange! VERY impressed all the way around!'"
      ]
     },
     "execution_count": 40,
     "metadata": {},
     "output_type": "execute_result"
    }
   ],
   "source": [
    "df = pd.read_csv('./Electronics_5.csv')\n",
    "text = df.reviewText[df.reviewText.notnull()]\n",
    "# del df\n",
    "text[0]"
   ]
  },
  {
   "cell_type": "code",
   "execution_count": 6,
   "metadata": {
    "collapsed": true
   },
   "outputs": [],
   "source": [
    "# import pickle\n",
    "# with open('./cleaned_reviews.pickle', 'rb') as infile:\n",
    "#     cleaned = pickle.load(infile)"
   ]
  },
  {
   "cell_type": "code",
   "execution_count": 7,
   "metadata": {
    "collapsed": true
   },
   "outputs": [],
   "source": [
    "# import pickle\n",
    "# c_splits = []\n",
    "# with open('./cleaned_split_1.pickle', 'rb') as infile:\n",
    "#     c_splits.extend(pickle.load(infile))\n",
    "\n",
    "# with open('./cleaned_split_2.pickle', 'rb') as infile:\n",
    "#     c_splits.extend(pickle.load(infile))"
   ]
  },
  {
   "cell_type": "code",
   "execution_count": 8,
   "metadata": {
    "collapsed": false
   },
   "outputs": [],
   "source": [
    "del df"
   ]
  },
  {
   "cell_type": "code",
   "execution_count": 9,
   "metadata": {
    "collapsed": true
   },
   "outputs": [],
   "source": [
    "class ReviewSplitter(object):\n",
    "    def __init__(self, reviews):\n",
    "        self.reviews = reviews\n",
    "        \n",
    "    def __iter__(self):\n",
    "        for review in self.reviews:\n",
    "#             r = preprocess(review)\n",
    "#             pdb.set_trace()\n",
    "            yield review.split()"
   ]
  },
  {
   "cell_type": "code",
   "execution_count": null,
   "metadata": {
    "collapsed": false
   },
   "outputs": [],
   "source": [
    "cleaned = pool.imap(preprocess, text)\n",
    "pool.close()\n",
    "pool.join()"
   ]
  },
  {
   "cell_type": "code",
   "execution_count": null,
   "metadata": {
    "collapsed": false
   },
   "outputs": [],
   "source": [
    "wv = Word2Vec(ReviewSplitter(cleaned), size=200, min_count=500, workers=16)"
   ]
  },
  {
   "cell_type": "code",
   "execution_count": null,
   "metadata": {
    "collapsed": true
   },
   "outputs": [],
   "source": [
    "wv.save('./w2v_reviews_v2.model')"
   ]
  },
  {
   "cell_type": "code",
   "execution_count": null,
   "metadata": {
    "collapsed": false
   },
   "outputs": [],
   "source": [
    "pool.terminate()"
   ]
  },
  {
   "cell_type": "code",
   "execution_count": 10,
   "metadata": {
    "collapsed": false
   },
   "outputs": [
    {
     "data": {
      "text/plain": [
       "'this is a test'"
      ]
     },
     "execution_count": 10,
     "metadata": {},
     "output_type": "execute_result"
    }
   ],
   "source": [
    "preprocess('this is a test')"
   ]
  },
  {
   "cell_type": "code",
   "execution_count": 4,
   "metadata": {
    "collapsed": true
   },
   "outputs": [],
   "source": [
    "wv = Word2Vec.load('./w2v_reviews_v2.model').wv"
   ]
  },
  {
   "cell_type": "code",
   "execution_count": 29,
   "metadata": {
    "collapsed": false
   },
   "outputs": [
    {
     "data": {
      "text/plain": [
       "[('sounding', 0.5803621411323547),\n",
       " ('bass', 0.573945164680481),\n",
       " ('bassy', 0.5654414892196655),\n",
       " ('sounds', 0.5432860851287842),\n",
       " ('muddled', 0.5247374773025513),\n",
       " ('tinny', 0.5230283737182617),\n",
       " ('soundstage', 0.5104070901870728),\n",
       " ('vocal', 0.5079558491706848),\n",
       " ('booming', 0.49704670906066895),\n",
       " ('midrange', 0.4915602505207062)]"
      ]
     },
     "execution_count": 29,
     "metadata": {},
     "output_type": "execute_result"
    }
   ],
   "source": [
    "wv.most_similar(positive=['meh', 'sound'])"
   ]
  },
  {
   "cell_type": "code",
   "execution_count": 24,
   "metadata": {
    "collapsed": false
   },
   "outputs": [
    {
     "data": {
      "text/plain": [
       "14.82579053321691"
      ]
     },
     "execution_count": 24,
     "metadata": {},
     "output_type": "execute_result"
    }
   ],
   "source": [
    "wv.wmdistance('tinny', 'quality')"
   ]
  },
  {
   "cell_type": "code",
   "execution_count": 69,
   "metadata": {
    "collapsed": false
   },
   "outputs": [
    {
     "data": {
      "text/plain": [
       "[('okay', 0.5531870126724243),\n",
       " ('eh', 0.5420130491256714),\n",
       " ('alright', 0.5400682687759399),\n",
       " ('bad', 0.5200860500335693),\n",
       " ('mediocre', 0.5196681618690491),\n",
       " ('cheesy', 0.5185725688934326),\n",
       " ('crummy', 0.5104964971542358),\n",
       " ('lame', 0.5087513327598572),\n",
       " ('passable', 0.49705225229263306),\n",
       " ('ok', 0.4920235276222229)]"
      ]
     },
     "execution_count": 69,
     "metadata": {},
     "output_type": "execute_result"
    }
   ],
   "source": [
    "wv.most_similar('meh')"
   ]
  },
  {
   "cell_type": "code",
   "execution_count": 104,
   "metadata": {
    "collapsed": false
   },
   "outputs": [
    {
     "data": {
      "text/plain": [
       "[('muffled', 0.515436053276062),\n",
       " ('hollow', 0.4710240364074707),\n",
       " ('muddy', 0.4507274627685547),\n",
       " ('dull', 0.4287339150905609),\n",
       " ('laggy', 0.42471420764923096),\n",
       " ('flimsy', 0.4232005476951599),\n",
       " ('flaky', 0.4208517372608185),\n",
       " ('silly', 0.4199576675891876),\n",
       " ('distorted', 0.4176425337791443),\n",
       " ('weak', 0.40768104791641235),\n",
       " ('scratchy', 0.40606436133384705),\n",
       " ('glitchy', 0.4020988345146179),\n",
       " ('disappointing', 0.4006798267364502),\n",
       " ('muddled', 0.3994293808937073),\n",
       " ('plasticky', 0.3989487290382385),\n",
       " ('fragile', 0.3987463414669037),\n",
       " ('sloppy', 0.3969285190105438),\n",
       " ('cheesy', 0.3945627808570862),\n",
       " ('wobbly', 0.3895731270313263),\n",
       " ('sluggish', 0.3891417384147644)]"
      ]
     },
     "execution_count": 104,
     "metadata": {},
     "output_type": "execute_result"
    }
   ],
   "source": [
    "wv.most_similar(positive=['tinny'], negative=['sound'], topn=20)"
   ]
  },
  {
   "cell_type": "code",
   "execution_count": 96,
   "metadata": {
    "collapsed": false
   },
   "outputs": [
    {
     "data": {
      "text/plain": [
       "Sentiment(polarity=0.0, subjectivity=0.0)"
      ]
     },
     "execution_count": 96,
     "metadata": {},
     "output_type": "execute_result"
    }
   ],
   "source": [
    "textblob.TextBlob('scratchy').sentiment"
   ]
  },
  {
   "cell_type": "code",
   "execution_count": 113,
   "metadata": {
    "collapsed": false
   },
   "outputs": [],
   "source": [
    "d = wv['sound'] + wv['quality']"
   ]
  },
  {
   "cell_type": "code",
   "execution_count": 115,
   "metadata": {
    "collapsed": false
   },
   "outputs": [
    {
     "name": "stderr",
     "output_type": "stream",
     "text": [
      "/home/cognizac/anaconda2/envs/datainc/lib/python3.6/site-packages/sklearn/utils/validation.py:395: DeprecationWarning: Passing 1d arrays as data is deprecated in 0.17 and will raise ValueError in 0.19. Reshape your data either using X.reshape(-1, 1) if your data has a single feature or X.reshape(1, -1) if it contains a single sample.\n",
      "  DeprecationWarning)\n",
      "/home/cognizac/anaconda2/envs/datainc/lib/python3.6/site-packages/sklearn/utils/validation.py:395: DeprecationWarning: Passing 1d arrays as data is deprecated in 0.17 and will raise ValueError in 0.19. Reshape your data either using X.reshape(-1, 1) if your data has a single feature or X.reshape(1, -1) if it contains a single sample.\n",
      "  DeprecationWarning)\n"
     ]
    },
    {
     "data": {
      "text/plain": [
       "array([[ 0.61326623]], dtype=float32)"
      ]
     },
     "execution_count": 115,
     "metadata": {},
     "output_type": "execute_result"
    }
   ],
   "source": []
  },
  {
   "cell_type": "code",
   "execution_count": null,
   "metadata": {
    "collapsed": true
   },
   "outputs": [],
   "source": []
  }
 ],
 "metadata": {
  "kernelspec": {
   "display_name": "Python 3",
   "language": "python",
   "name": "python3"
  },
  "language_info": {
   "codemirror_mode": {
    "name": "ipython",
    "version": 3
   },
   "file_extension": ".py",
   "mimetype": "text/x-python",
   "name": "python",
   "nbconvert_exporter": "python",
   "pygments_lexer": "ipython3",
   "version": "3.6.0"
  }
 },
 "nbformat": 4,
 "nbformat_minor": 2
}
