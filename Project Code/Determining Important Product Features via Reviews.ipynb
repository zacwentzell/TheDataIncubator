{
 "cells": [
  {
   "cell_type": "code",
   "execution_count": 1,
   "metadata": {
    "collapsed": true
   },
   "outputs": [],
   "source": [
    "import ast\n",
    "import glob\n",
    "import json\n",
    "import multiprocessing as mp\n",
    "import nltk\n",
    "import numpy as np\n",
    "import pandas as pd\n",
    "import string\n",
    "import textacy\n",
    "\n",
    "from collections import Counter, defaultdict\n",
    "from gensim.models.word2vec import Word2Vec\n",
    "from IPython.core.debugger import Pdb\n",
    "from nltk.corpus import stopwords\n",
    "from nltk.tokenize import word_tokenize"
   ]
  },
  {
   "cell_type": "code",
   "execution_count": 2,
   "metadata": {
    "collapsed": true
   },
   "outputs": [],
   "source": [
    "%matplotlib inline"
   ]
  },
  {
   "cell_type": "code",
   "execution_count": 3,
   "metadata": {
    "collapsed": false
   },
   "outputs": [],
   "source": [
    "pdb = Pdb()\n",
    "\n",
    "pool = mp.Pool(processes=mp.cpu_count())\n",
    "\n",
    "sw = stopwords.words('english')"
   ]
  },
  {
   "cell_type": "code",
   "execution_count": 4,
   "metadata": {
    "collapsed": false
   },
   "outputs": [],
   "source": [
    "df = pd.read_csv('./Electronics_5.csv')\n",
    "meta_df = pd.read_csv('./meta_electronics.csv')"
   ]
  },
  {
   "cell_type": "code",
   "execution_count": 12,
   "metadata": {
    "collapsed": false
   },
   "outputs": [],
   "source": [
    "products_with_titles = meta_df[meta_df.title.notnull()]"
   ]
  },
  {
   "cell_type": "code",
   "execution_count": 3,
   "metadata": {
    "collapsed": false
   },
   "outputs": [],
   "source": [
    "trans = str.maketrans(string.punctuation, ' '*len(string.punctuation))\n",
    "\n",
    "def tokenize(sent):                                                    \n",
    "    sent = sent.translate(trans)\n",
    "    return [w.lower() for w in word_tokenize(sent) if w.lower() not in sw]\n"
   ]
  },
  {
   "cell_type": "code",
   "execution_count": 4,
   "metadata": {
    "collapsed": false
   },
   "outputs": [],
   "source": [
    "#w2v = Word2Vec([tokenize(review) for review in df.reviewText], min_count=1000, workers=6)"
   ]
  },
  {
   "cell_type": "code",
   "execution_count": 6,
   "metadata": {
    "collapsed": true
   },
   "outputs": [],
   "source": [
    "# wv = w2v.wv\n",
    "# del w2v"
   ]
  },
  {
   "cell_type": "code",
   "execution_count": 2,
   "metadata": {
    "collapsed": false
   },
   "outputs": [
    {
     "ename": "NameError",
     "evalue": "name 'Word2Vec' is not defined",
     "output_type": "error",
     "traceback": [
      "\u001b[0;31m---------------------------------------------------------------------------\u001b[0m",
      "\u001b[0;31mNameError\u001b[0m                                 Traceback (most recent call last)",
      "\u001b[0;32m<ipython-input-2-a570b9159b1a>\u001b[0m in \u001b[0;36m<module>\u001b[0;34m()\u001b[0m\n\u001b[1;32m      1\u001b[0m \u001b[0;31m#w2v.save('./w2v_reviews.model')\u001b[0m\u001b[0;34m\u001b[0m\u001b[0;34m\u001b[0m\u001b[0m\n\u001b[0;32m----> 2\u001b[0;31m \u001b[0mwv\u001b[0m \u001b[0;34m=\u001b[0m \u001b[0mWord2Vec\u001b[0m\u001b[0;34m.\u001b[0m\u001b[0mload\u001b[0m\u001b[0;34m(\u001b[0m\u001b[0;34m'./w2v_reviews.model'\u001b[0m\u001b[0;34m)\u001b[0m\u001b[0;34m\u001b[0m\u001b[0m\n\u001b[0m",
      "\u001b[0;31mNameError\u001b[0m: name 'Word2Vec' is not defined"
     ]
    }
   ],
   "source": [
    "#w2v.save('./w2v_reviews.model')\n",
    "wv = Word2Vec.load('./w2v_reviews.model')"
   ]
  },
  {
   "cell_type": "code",
   "execution_count": 1,
   "metadata": {
    "collapsed": false
   },
   "outputs": [
    {
     "ename": "NameError",
     "evalue": "name 'wv' is not defined",
     "output_type": "error",
     "traceback": [
      "\u001b[0;31m---------------------------------------------------------------------------\u001b[0m",
      "\u001b[0;31mNameError\u001b[0m                                 Traceback (most recent call last)",
      "\u001b[0;32m<ipython-input-1-1fe956a175b0>\u001b[0m in \u001b[0;36m<module>\u001b[0;34m()\u001b[0m\n\u001b[0;32m----> 1\u001b[0;31m \u001b[0mwv\u001b[0m\u001b[0;34m.\u001b[0m\u001b[0mmost_similar\u001b[0m\u001b[0;34m(\u001b[0m\u001b[0mpositive\u001b[0m\u001b[0;34m=\u001b[0m\u001b[0;34m[\u001b[0m\u001b[0;34m'the'\u001b[0m\u001b[0;34m,\u001b[0m \u001b[0;34m'awful'\u001b[0m\u001b[0;34m,\u001b[0m \u001b[0;34m'sound'\u001b[0m\u001b[0;34m]\u001b[0m\u001b[0;34m)\u001b[0m\u001b[0;34m\u001b[0m\u001b[0m\n\u001b[0m",
      "\u001b[0;31mNameError\u001b[0m: name 'wv' is not defined"
     ]
    }
   ],
   "source": [
    "wv.most_similar(positive=['the', 'awful', 'sound'])"
   ]
  },
  {
   "cell_type": "code",
   "execution_count": 29,
   "metadata": {
    "collapsed": false
   },
   "outputs": [
    {
     "data": {
      "text/plain": [
       "B003ELYQGG    59\n",
       "B0038W0K2K    39\n",
       "B0027VT6V4    37\n",
       "B000R9AAJA    34\n",
       "B000RQSGYO    30\n",
       "B001V9LPT4    27\n",
       "B009A5204K    20\n",
       "B0052YFYFK    17\n",
       "B000I68BD4    17\n",
       "B004HHICKC    17\n",
       "B0082E9K7U    17\n",
       "B0047T79VS    15\n",
       "B000E6G9RI    13\n",
       "B005A0B7CA    13\n",
       "B007OY5V68    13\n",
       "B003GIJTR8    12\n",
       "B003VQQVDU    12\n",
       "B004S7Q8CA    12\n",
       "B001ELK2NY    12\n",
       "B002BH3I9U    12\n",
       "B0055QYJM4    12\n",
       "B001UEBN42    11\n",
       "B00A0JUNYY    11\n",
       "B000ZH98LU    11\n",
       "B00020S7XK    10\n",
       "B002RWJD7A    10\n",
       "B001EZYMF4    10\n",
       "B008JGR9MO    10\n",
       "B000IF4788    10\n",
       "B002ZAVVHY    10\n",
       "              ..\n",
       "B002DEM9EG     1\n",
       "B002E95P3C     1\n",
       "B004477OAY     1\n",
       "B0036VO2B8     1\n",
       "B003WZFYYW     1\n",
       "B000G36GOK     1\n",
       "B0015BUJ0Y     1\n",
       "B003JTHMRS     1\n",
       "B005UA65YA     1\n",
       "B001DJ64D4     1\n",
       "B004MEWZE4     1\n",
       "B004P5ZAQK     1\n",
       "B0009GUDVQ     1\n",
       "B003ZUXITC     1\n",
       "B0057153KY     1\n",
       "B004MNADXK     1\n",
       "B0000U19F0     1\n",
       "B0006DPPW4     1\n",
       "B00BB0ZTJA     1\n",
       "B0009X09IQ     1\n",
       "B000EPHP4U     1\n",
       "B00009P2YQ     1\n",
       "B003OTXBY6     1\n",
       "B0074YRGIY     1\n",
       "B0016BVDIK     1\n",
       "B002MV2R5G     1\n",
       "B00CE590Z0     1\n",
       "1400599997     1\n",
       "B0075Z2SMG     1\n",
       "B00856XEFO     1\n",
       "Name: asin, dtype: int64"
      ]
     },
     "execution_count": 29,
     "metadata": {},
     "output_type": "execute_result"
    }
   ],
   "source": [
    "df.asin[(df.reviewText.notnull()) & (df.reviewText.str.contains('tinny'))].value_counts()"
   ]
  },
  {
   "cell_type": "code",
   "execution_count": 11,
   "metadata": {
    "collapsed": false
   },
   "outputs": [
    {
     "name": "stdout",
     "output_type": "stream",
     "text": [
      "               asin   helpful  overall  \\\n",
      "14790    B00004ZCJE    [1, 1]      4.0   \n",
      "14791    B00004ZCJE    [0, 0]      3.0   \n",
      "14792    B00004ZCJE    [0, 0]      5.0   \n",
      "14793    B00004ZCJE    [0, 0]      5.0   \n",
      "14794    B00004ZCJE    [0, 0]      3.0   \n",
      "14795    B00004ZCJE    [0, 0]      5.0   \n",
      "14796    B00004ZCJE    [0, 0]      5.0   \n",
      "14797    B00004ZCJE    [0, 0]      4.0   \n",
      "14798    B00004ZCJE    [1, 1]      4.0   \n",
      "14799    B00004ZCJE    [0, 0]      4.0   \n",
      "14800    B00004ZCJE  [18, 19]      4.0   \n",
      "14801    B00004ZCJE    [0, 0]      5.0   \n",
      "14802    B00004ZCJE    [0, 0]      5.0   \n",
      "14803    B00004ZCJE    [0, 0]      2.0   \n",
      "14804    B00004ZCJE    [0, 0]      5.0   \n",
      "14805    B00004ZCJE    [0, 0]      5.0   \n",
      "14806    B00004ZCJE    [0, 1]      5.0   \n",
      "14807    B00004ZCJE    [0, 0]      1.0   \n",
      "14808    B00004ZCJE    [0, 0]      5.0   \n",
      "14809    B00004ZCJE    [0, 0]      5.0   \n",
      "14810    B00004ZCJE  [22, 24]      3.0   \n",
      "14811    B00004ZCJE  [10, 11]      3.0   \n",
      "14812    B00004ZCJE    [0, 0]      5.0   \n",
      "14813    B00004ZCJE    [0, 0]      5.0   \n",
      "14814    B00004ZCJE    [0, 0]      4.0   \n",
      "14815    B00004ZCJE    [0, 0]      5.0   \n",
      "14816    B00004ZCJE    [0, 0]      5.0   \n",
      "14817    B00004ZCJE    [0, 0]      1.0   \n",
      "14818    B00004ZCJE    [0, 0]      5.0   \n",
      "14819    B00004ZCJE    [0, 0]      5.0   \n",
      "...             ...       ...      ...   \n",
      "1635112  B00E3W15P0    [0, 0]      5.0   \n",
      "1635113  B00E3W15P0    [2, 2]      5.0   \n",
      "1635114  B00E3W15P0    [0, 0]      5.0   \n",
      "1635115  B00E3W15P0    [0, 0]      5.0   \n",
      "1635116  B00E3W15P0    [0, 0]      4.0   \n",
      "1635117  B00E3W15P0    [0, 0]      5.0   \n",
      "1635118  B00E3W15P0    [0, 0]      5.0   \n",
      "1635119  B00E3W15P0    [0, 0]      5.0   \n",
      "1635120  B00E3W15P0    [0, 0]      5.0   \n",
      "1635121  B00E3W15P0    [1, 1]      5.0   \n",
      "1635122  B00E3W15P0    [0, 0]      5.0   \n",
      "1635123  B00E3W15P0    [0, 0]      5.0   \n",
      "1635124  B00E3W15P0    [0, 0]      5.0   \n",
      "1635125  B00E3W15P0    [0, 0]      5.0   \n",
      "1635126  B00E3W15P0    [0, 0]      5.0   \n",
      "1635127  B00E3W15P0    [0, 3]      3.0   \n",
      "1635128  B00E3W15P0    [0, 0]      5.0   \n",
      "1635129  B00E3W15P0    [0, 0]      5.0   \n",
      "1635130  B00E3W15P0    [0, 0]      4.0   \n",
      "1635131  B00E3W15P0    [0, 0]      5.0   \n",
      "1635132  B00E3W15P0    [3, 4]      5.0   \n",
      "1635133  B00E3W15P0    [1, 1]      5.0   \n",
      "1635134  B00E3W15P0    [1, 1]      5.0   \n",
      "1635135  B00E3W15P0    [0, 0]      5.0   \n",
      "1635136  B00E3W15P0    [0, 0]      5.0   \n",
      "1635137  B00E3W15P0    [0, 0]      5.0   \n",
      "1635138  B00E3W15P0    [0, 0]      5.0   \n",
      "1635139  B00E3W15P0    [3, 7]      5.0   \n",
      "1635140  B00E3W15P0    [0, 0]      5.0   \n",
      "1635141  B00E3W15P0    [0, 0]      5.0   \n",
      "\n",
      "                                                reviewText   reviewTime  \\\n",
      "14790    Does as advertised. No problems or distortions...  04 24, 2013   \n",
      "14791    Like I said, if you just wanted something to c...  07 29, 2013   \n",
      "14792    This is something that I would recommend to ev...  03 26, 2013   \n",
      "14793    This works great with my new Nikon 70-300mm le...  03 20, 2014   \n",
      "14794    This UV filter works well at protecting the fr...  12 24, 2013   \n",
      "14795    I use a Nikon 18-300 lens which is 1,000 dolla...  11 24, 2012   \n",
      "14796    I bought this as a cheap way to protect myCano...  07 21, 2011   \n",
      "14797    Not much to say about this, it's a good genera...  01 13, 2009   \n",
      "14798    This was an accessory for a 16-35mm F/2.8L Can...  02 13, 2012   \n",
      "14799    A must have - I would suggest getting it for a...  11 18, 2013   \n",
      "14800    I bought this filter to put on the front of th...  03 24, 2006   \n",
      "14801    I ordered this to help reduce the sun glare in...  04 25, 2014   \n",
      "14802    thing is fine, you get what you pay for, not t...  03 30, 2013   \n",
      "14803    It's not the most clear glass, but it works.  ...  08 29, 2011   \n",
      "14804    I'm not all about filters, but I am very happy...  03 19, 2013   \n",
      "14805    nothing hard about this. provides easy, clear,...  06 11, 2014   \n",
      "14806    This filter does a good job of both protecting...  05 22, 2013   \n",
      "14807    Don't waste your $10!! I'm not a prosumer even...  05 25, 2010   \n",
      "14808    I really like this filter mostly for it's prot...  05 27, 2013   \n",
      "14809    it is always smart to cover the end of the len...   08 5, 2013   \n",
      "14810    Tiffen has been in the filter business for as ...  10 23, 2006   \n",
      "14811    This came free when I purchasedNikon 35mm f/1....  08 15, 2011   \n",
      "14812    Anyone using a DSLR should have some form of l...  03 21, 2011   \n",
      "14813    I have always used Tiffin filters for almost a...  01 10, 2013   \n",
      "14814    I can't give it a perfect 5 due to the fact th...   10 4, 2013   \n",
      "14815    It does what I needed for the price I wanted t...   02 5, 2013   \n",
      "14816    It's just a filter and i don't know how i can ...  10 26, 2012   \n",
      "14817    the filter arrived unopened but was totally us...   07 9, 2014   \n",
      "14818    If you do not have $$$$$ to spend on the high ...  12 17, 2013   \n",
      "14819    It provides some UV protection, and best of al...  12 28, 2012   \n",
      "...                                                    ...          ...   \n",
      "1635112  The computer boot and load times were over 5 m...  10 20, 2013   \n",
      "1635113  Pros: * Works and Windows disk performance on ...  03 30, 2014   \n",
      "1635114  I bought this for my parents computer to keep ...   03 7, 2014   \n",
      "1635115  I simply pulled out my old HD and put this one...  09 28, 2013   \n",
      "1635116  My Laptop is so much faster now! AND my batter...  05 12, 2014   \n",
      "1635117  Well, I have bought 3 Samsung SSDs now, an 830...   04 6, 2014   \n",
      "1635118  Great upgrade for my desktop system.  Bought a...  12 29, 2013   \n",
      "1635119  I've used several of Samsung's SSD products in...  07 10, 2014   \n",
      "1635120  I am a huge Intel fan and I have purchased ove...   05 9, 2014   \n",
      "1635121  Replaced a 1 terabyte hard drive with this SSD...  06 15, 2014   \n",
      "1635122  I bought this model as opposed to the 840 Pro ...   05 5, 2014   \n",
      "1635123  Instead of buying a new laptop - if yours is s...  06 27, 2014   \n",
      "1635124  It's a Samsung 840 Evo SSD. Fast as expected. ...  01 18, 2014   \n",
      "1635125  Wow!  Can't get this much bang for the buck.  ...  11 24, 2013   \n",
      "1635126  I bought 840 EVO 250GB for another my old MacB...  03 14, 2014   \n",
      "1635127  The boot time of my Sony i7 laptop was 1 min 5...  05 17, 2014   \n",
      "1635128  Installed this on my new rig. Got the Windows ...   02 8, 2014   \n",
      "1635129  This amazing SSD is so fast that you could nev...  01 19, 2014   \n",
      "1635130  Not too much to add at this point, just though...   02 9, 2014   \n",
      "1635131  I bought this for my Gaming laptop. it was eas...  04 25, 2014   \n",
      "1635132  As to many of us, we're all scared to buying a...  05 10, 2014   \n",
      "1635133  This SSD as of right now is rated #1 as far as...  02 13, 2014   \n",
      "1635134  This drive is fast, reliable and highly recomm...  01 10, 2014   \n",
      "1635135  Samsung's 840 EVO series is benchmarked as one...  06 30, 2014   \n",
      "1635136  The drive is quick and has given me no issues....   12 8, 2013   \n",
      "1635137  FAAAAAAAAAAAST! Put this is my MacBook Pro Mid...   07 5, 2014   \n",
      "1635138  Screamingly fast drive. Very stable and reliab...   12 3, 2013   \n",
      "1635139  Final Thoughts: Why i changed my rating from 1...  10 19, 2013   \n",
      "1635140  One solid SSD drive with super performance and...   07 9, 2014   \n",
      "1635141  Got this drive to install in my new workstatio...  12 27, 2013   \n",
      "\n",
      "             reviewerID                           reviewerName  \\\n",
      "14790    A2Y73AS8Q8B4ZD             35years in trades \"4msetr\"   \n",
      "14791    A1Q1AB29V0T465                           44r0n m4nu3L   \n",
      "14792    A2TCW020SUCZR7                             ACE1DRAGON   \n",
      "14793    A2YCA3XQU3BT0X                        Acoustic Player   \n",
      "14794    A3HIZRE3I7X6UV                A. Craig \"Surf Striper\"   \n",
      "14795    A2YRX8J4WM5BRX                    Adam Petrone \"Adam\"   \n",
      "14796     AIT1VEKH625F5                           Adam Walpert   \n",
      "14797    A29U5BO9GY1KS7                                     AD   \n",
      "14798    A2C0JUNHE609IC                         Adi Naik \"Adi\"   \n",
      "14799     AK1APQJY16YMO                          Aditya Prasad   \n",
      "14800    A265LEKV4RHBE9                        A. Drew \"adrew\"   \n",
      "14801    A2Y2BV6ZG5F6PM     A. Drewes \"Closet of Free Samples\"   \n",
      "14802    A20B06VXQO8HAT                                    ADR   \n",
      "14803    A27WQA46WDPPCE                                Adri L.   \n",
      "14804    A2DDINU5UJ4S49                            A*G*Imagery   \n",
      "14805     A5S1Q9B7KTP9B                             Aginthelaw   \n",
      "14806     AU627A4UGIW6V                                A. Gray   \n",
      "14807    A1GCK4PRRZMYZQ                      A. Hermelin \"a h\"   \n",
      "14808    A14PRSJB9Z7K5S           Akcloudwoman \"Ak Cloudwoman\"   \n",
      "14809    A1E8KCG75TEEEG                             akphotoman   \n",
      "14810    A1G589VLRP2X9C             Alan \"awaldrop@cfl.rr.com\"   \n",
      "14811    A3F73SC1LY51OO                        Alan Montgomery   \n",
      "14812    A29C9TKHENQCU2                             Alaska Ham   \n",
      "14813    A16RL0RMRF974O      Albert C. Marth \"Albert c. Marth\"   \n",
      "14814     AVF4PURF32PLP                             Albert Lui   \n",
      "14815     AQUB644H7OIF9                                Alberto   \n",
      "14816     A4JYFR3IWASS0                              Alexandre   \n",
      "14817    A156CN4CBPIZHJ                           AlexEspinosa   \n",
      "14818    A3VHWGMFQC7X0O                                   Alex   \n",
      "14819    A2U7C3979YNQV2                                   Alex   \n",
      "...                 ...                                    ...   \n",
      "1635112  A36UY8TVX4CFLU                         william hinton   \n",
      "1635113  A2PYUSR9I60RDM            William I. Dube \"Bill Dube\"   \n",
      "1635114  A2DDF8NAREKGAF                       William J. Kelly   \n",
      "1635115  A1TNNI3JHTTGOT                             William L.   \n",
      "1635116   AG7YJCNJL1F7B                       William R. Brown   \n",
      "1635117  A39KYBSFBQKU6K                          William The S   \n",
      "1635118  A1JQAYN6JJFO1Y                    Wind Eagle \"sammer\"   \n",
      "1635119  A1MRPX3RM48T2I                                 Winter   \n",
      "1635120  A2HRHF83I3NDGT                            WiseShopper   \n",
      "1635121  A3MF5Y5EYYINR4                              W. Kaiser   \n",
      "1635122  A1XR925H4XU4WY                               W. Mills   \n",
      "1635123  A3MBN8JOUC1K6Q                           World Reader   \n",
      "1635124  A22OOXN3G63R16                                   W.S.   \n",
      "1635125  A2UGRZBOCL0JB0                        W. V. \"cne9999\"   \n",
      "1635126  A3L9RN0RW83QMI                    xoundbox \"xoundbox\"   \n",
      "1635127  A1JFCHRCF7UTK4                                X. TANG   \n",
      "1635128   A1Q80VFM8KP7Y                               Yankee Z   \n",
      "1635129  A26DMFB0S3M1IO                         Yehia El Araby   \n",
      "1635130  A1684AUMDYVLFU                                Y. Erez   \n",
      "1635131  A2240N5MVIYNVW                     Yevgeniy Aynbinder   \n",
      "1635132  A1X6BKMULXLXMX                                YimYorm   \n",
      "1635133  A1RWWUJNPLZ3SM               Yong S. Moon \"Bloodklot\"   \n",
      "1635134  A1OC8YQ4UGF5K1                                   Yoyo   \n",
      "1635135  A1YEPFLLH42OU1  Yu-jin &amp; Tracy Chia \"Yu-Jin Chia\"   \n",
      "1635136  A1KD98C1DULSNJ                               Yvette H   \n",
      "1635137  A2FRK17ETLK7UY                     Zachary Flategraff   \n",
      "1635138  A1119HMZP17P2C                              Zackariah   \n",
      "1635139  A2JWF9IG8PJAOA                                    Zen   \n",
      "1635140  A1KMSYUCPIE0NS                     ziponein \"DDR1918\"   \n",
      "1635141  A3JW711GJ97CEY                     zipturtleaz \"zip!\"   \n",
      "\n",
      "                                                   summary  unixReviewTime  \n",
      "14790                                  Nice and works good      1366761600  \n",
      "14791                  If You Are Under Budget Constraints      1375056000  \n",
      "14792                                         Must have it      1364256000  \n",
      "14793                         High quality Lens Protection      1395273600  \n",
      "14794                                 Works for protection      1387843200  \n",
      "14795                        Protects my Nikon 18-300 lens      1353715200  \n",
      "14796                                         Does its job      1311206400  \n",
      "14797                       Good general-purpose UV filter      1231804800  \n",
      "14798            Does it's job well - no whistles or bells      1329091200  \n",
      "14799                            Good addition to your kit      1384732800  \n",
      "14800                           Does what it's supposed to      1143158400  \n",
      "14801                             Fits my Nikon perfectly!      1398384000  \n",
      "14802                             has some glare , but duh      1364601600  \n",
      "14803                                           Cracked!!!      1314576000  \n",
      "14804                                                Good!      1363651200  \n",
      "14805                         pertect for micro 4/3 lenses      1402444800  \n",
      "14806                                   Works like a charm      1369180800  \n",
      "14807                              Blue ghosting and flare      1274745600  \n",
      "14808                            Saved my lens many times!      1369612800  \n",
      "14809                                      thank you......      1375660800  \n",
      "14810                        UV Filter for lens protection      1161561600  \n",
      "14811                            Good Backup UV Protection      1313366400  \n",
      "14812                            Filter & Lense Protection      1300665600  \n",
      "14813                   Tiffen Protection Filter At Amazon      1357776000  \n",
      "14814                            Tiffen is a great product      1380844800  \n",
      "14815                                                 Good      1360022400  \n",
      "14816                                                 Good      1351209600  \n",
      "14817                                             One Star      1404864000  \n",
      "14818                                   Good budget filter      1387238400  \n",
      "14819                               Does what it needs to.      1356652800  \n",
      "...                                                    ...             ...  \n",
      "1635112                            Great Solid State Drive      1382227200  \n",
      "1635113                         Learn from my Mistakes!!!!      1396137600  \n",
      "1635114                                         Works well      1394150400  \n",
      "1635115                                      Plug and play      1380326400  \n",
      "1635116                                           So Fast!      1399852800  \n",
      "1635117                 I cant live without an SSD anymore      1396742400  \n",
      "1635118                                      Great upgrade      1388275200  \n",
      "1635119                        Superfast and Built to Last      1404950400  \n",
      "1635120                       Surprised by the performance      1399593600  \n",
      "1635121           Huge improvement over my old hard drive.      1402790400  \n",
      "1635122                      As good as I had hoped for...      1399248000  \n",
      "1635123                       Brought Macbook back to life      1403827200  \n",
      "1635124                                           Love it!      1390003200  \n",
      "1635125  Simple, fast, easy to install, great migration...      1385251200  \n",
      "1635126                       Must-buy item for old laptop      1394755200  \n",
      "1635127                                  Improved a little      1400284800  \n",
      "1635128                                         Super Fast      1391817600  \n",
      "1635129  This is the best thing I've ever purchased in ...      1390089600  \n",
      "1635130                                    Obviously great      1391904000  \n",
      "1635131                                     Lightning fast      1398384000  \n",
      "1635132                        Amazing, Fast and reliable.      1399680000  \n",
      "1635133                                          The Best!      1392249600  \n",
      "1635134                              Excellent SSD DRIVE!!      1389312000  \n",
      "1635135                            Outstanding performance      1404086400  \n",
      "1635136                        It's exactly what I ordered      1386460800  \n",
      "1635137                            ASTOUNDING PERFORMANCE!      1404518400  \n",
      "1635138  Boot your OS from a SSD and you will never go ...      1386028800  \n",
      "1635139  Faulty SSD Drive >>>FIXED&lt;&lt;&lt; You need...      1382140800  \n",
      "1635140  One solid SSD drive with super performance and...      1404864000  \n",
      "1635141                             Easy to use, very fast      1388102400  \n",
      "\n",
      "[89054 rows x 9 columns]\n"
     ]
    },
    {
     "data": {
      "text/plain": [
       "helpful           B000I68BD4\n",
       "overall           B000I68BD4\n",
       "reviewText        B000I68BD4\n",
       "reviewTime        B000I68BD4\n",
       "reviewerID        B000I68BD4\n",
       "reviewerName      B000I68BD4\n",
       "summary           B000I68BD4\n",
       "unixReviewTime    B000I68BD4\n",
       "dtype: object"
      ]
     },
     "execution_count": 11,
     "metadata": {},
     "output_type": "execute_result"
    }
   ],
   "source": [
    "products = df.groupby('asin')\n",
    "\n",
    "df_rev_gt1000 = products.filter(lambda x: len(x) > 1000)\n",
    "print(df_rev_gt1000)"
   ]
  },
  {
   "cell_type": "code",
   "execution_count": 15,
   "metadata": {
    "collapsed": false
   },
   "outputs": [
    {
     "data": {
      "text/plain": [
       "'B000I68BD4'"
      ]
     },
     "execution_count": 15,
     "metadata": {},
     "output_type": "execute_result"
    }
   ],
   "source": [
    "df_rev_gt1000.groupby('asin').apply(lambda x: x.overall.std()).argmax()"
   ]
  },
  {
   "cell_type": "code",
   "execution_count": 53,
   "metadata": {
    "collapsed": true
   },
   "outputs": [],
   "source": [
    "test_product = df_rev_gt1000[df_rev_gt1000.asin == 'B000I68BD4']"
   ]
  },
  {
   "cell_type": "code",
   "execution_count": 54,
   "metadata": {
    "collapsed": true
   },
   "outputs": [],
   "source": [
    "c = Counter()\n",
    "for review in test_product.reviewText:\n",
    "    c.update(set(tokenize(review)))"
   ]
  },
  {
   "cell_type": "code",
   "execution_count": 55,
   "metadata": {
    "collapsed": false
   },
   "outputs": [
    {
     "data": {
      "text/plain": [
       "[('sound', 640),\n",
       " ('ear', 454),\n",
       " ('good', 408),\n",
       " ('buds', 376),\n",
       " ('price', 339),\n",
       " ('quality', 327),\n",
       " ('great', 318),\n",
       " ('noise', 247),\n",
       " ('like', 237),\n",
       " ('ears', 231),\n",
       " ('use', 231),\n",
       " ('better', 227),\n",
       " ('comfortable', 225),\n",
       " ('earbuds', 221),\n",
       " ('fit', 207),\n",
       " ('headphones', 205),\n",
       " ('pair', 204),\n",
       " ('get', 194),\n",
       " ('would', 193),\n",
       " ('well', 186),\n",
       " ('bought', 180),\n",
       " ('much', 179),\n",
       " ('one', 178),\n",
       " ('music', 142),\n",
       " ('work', 141)]"
      ]
     },
     "execution_count": 55,
     "metadata": {},
     "output_type": "execute_result"
    }
   ],
   "source": [
    "c.most_common(25)"
   ]
  },
  {
   "cell_type": "code",
   "execution_count": 30,
   "metadata": {
    "collapsed": false
   },
   "outputs": [
    {
     "data": {
      "text/plain": [
       "[little ear buds,\n",
       " lot business trips,\n",
       " bring along ear buds,\n",
       " better sound quality,\n",
       " 2 bucks,\n",
       " inexpensive great sound,\n",
       " nearly year failures]"
      ]
     },
     "execution_count": 30,
     "metadata": {},
     "output_type": "execute_result"
    }
   ],
   "source": [
    "list(textacy.extract.noun_chunks(textacy.Doc(' '.join(tokenize(test_product.iloc[1].reviewText)))))"
   ]
  },
  {
   "cell_type": "code",
   "execution_count": 146,
   "metadata": {
    "collapsed": false
   },
   "outputs": [],
   "source": [
    "adj_noun_c = Counter()\n",
    "n_chunk_c = Counter()\n",
    "\n",
    "for review in test_product.reviewText:\n",
    "    doc = textacy.Doc(review)\n",
    "    adj_noun_c.update(set([str(w) for w in textacy.extract.words(doc, filter_stops=True, filter_nums=True, \n",
    "                                                             filter_punct=True, include_pos=['ADJ', 'NOUN'])]))\n",
    "    \n",
    "    n_chunk_c.update(set([str(' '.join(str(nc).split()[-2:])).lower() for nc in textacy.extract.noun_chunks(doc) if str(nc).lower() not in sw and len(str(nc).split(' ')) > 1]))\n",
    "    "
   ]
  },
  {
   "cell_type": "code",
   "execution_count": 124,
   "metadata": {
    "collapsed": false
   },
   "outputs": [
    {
     "data": {
      "text/plain": [
       "[('sound', 535),\n",
       " ('ear', 432),\n",
       " ('good', 382),\n",
       " ('buds', 352),\n",
       " ('price', 330),\n",
       " ('quality', 319),\n",
       " ('great', 272),\n",
       " ('noise', 230),\n",
       " ('ears', 224),\n",
       " ('comfortable', 213),\n",
       " ('earbuds', 204),\n",
       " ('pair', 204),\n",
       " ('headphones', 200),\n",
       " ('better', 189),\n",
       " ('music', 138),\n",
       " ('cheap', 128),\n",
       " ('bass', 120),\n",
       " ('time', 109),\n",
       " ('set', 104),\n",
       " ('ones', 104),\n",
       " ('different', 98),\n",
       " ('cord', 93),\n",
       " ('product', 87),\n",
       " ('months', 86),\n",
       " ('fit', 84),\n",
       " ('little', 83),\n",
       " ('earphones', 83),\n",
       " ('best', 74),\n",
       " ('money', 73),\n",
       " ('volume', 68),\n",
       " ('use', 65),\n",
       " ('nice', 64),\n",
       " ('worth', 63),\n",
       " ('reviews', 63),\n",
       " ('bud', 63),\n",
       " ('bad', 62),\n",
       " ('new', 60),\n",
       " ('decent', 60),\n",
       " ('small', 60),\n",
       " ('bit', 60),\n",
       " ('sizes', 60),\n",
       " ('low', 59),\n",
       " ('reduction', 58),\n",
       " ('high', 58),\n",
       " ('size', 58),\n",
       " ('pairs', 56),\n",
       " ('right', 55),\n",
       " ('rubber', 55),\n",
       " ('year', 53),\n",
       " ('lot', 53)]"
      ]
     },
     "execution_count": 124,
     "metadata": {},
     "output_type": "execute_result"
    }
   ],
   "source": [
    "adj_noun_c.most_common(50)"
   ]
  },
  {
   "cell_type": "code",
   "execution_count": 147,
   "metadata": {
    "collapsed": false
   },
   "outputs": [
    {
     "data": {
      "text/plain": [
       "[('ear buds', 239),\n",
       " ('sound quality', 181),\n",
       " ('my ears', 144),\n",
       " ('my ear', 49),\n",
       " ('noise reduction', 45),\n",
       " ('mp3 player', 40),\n",
       " ('your ears', 37),\n",
       " ('my ipod', 36),\n",
       " ('your ear', 35),\n",
       " ('ear bud', 26),\n",
       " ('my music', 22),\n",
       " ('ear pieces', 20),\n",
       " ('price point', 19),\n",
       " ('second pair', 19),\n",
       " ('outside noise', 18),\n",
       " ('low price', 18),\n",
       " ('different sizes', 18),\n",
       " ('quality sound', 17),\n",
       " ('ear canal', 17),\n",
       " ('background noise', 17),\n",
       " ('first pair', 16),\n",
       " ('my wife', 16),\n",
       " ('great price', 14),\n",
       " ('6 months', 14),\n",
       " ('good price', 13),\n",
       " ('mp3 players', 13),\n",
       " ('your money', 13),\n",
       " ('price range', 12),\n",
       " ('my daughter', 12),\n",
       " ('one side', 12),\n",
       " ('head phones', 12),\n",
       " ('ear phones', 12),\n",
       " ('my son', 11),\n",
       " ('bass response', 11),\n",
       " ('my computer', 11),\n",
       " ('cheap headphones', 11),\n",
       " ('great product', 11),\n",
       " ('ambient noise', 11),\n",
       " ('few months', 11),\n",
       " ('other earbuds', 11),\n",
       " ('great value', 11),\n",
       " ('rubber tips', 11),\n",
       " ('good job', 11),\n",
       " ('external noise', 11),\n",
       " ('3 sizes', 11),\n",
       " ('new pair', 11),\n",
       " ('two pairs', 11),\n",
       " ('great deal', 10),\n",
       " ('one ear', 10),\n",
       " ('customer service', 10)]"
      ]
     },
     "execution_count": 147,
     "metadata": {},
     "output_type": "execute_result"
    }
   ],
   "source": [
    "n_chunk_c.most_common(50)"
   ]
  },
  {
   "cell_type": "code",
   "execution_count": 156,
   "metadata": {
    "collapsed": false
   },
   "outputs": [
    {
     "data": {
      "text/plain": [
       "[('styles', 0.6896075010299683),\n",
       " ('types', 0.650073766708374),\n",
       " ('inserts', 0.5676872134208679),\n",
       " ('combinations', 0.5588642358779907),\n",
       " ('sets', 0.5392212867736816),\n",
       " ('tips', 0.5151994228363037),\n",
       " ('attachments', 0.5132334232330322),\n",
       " ('varying', 0.49580249190330505),\n",
       " ('various', 0.487615168094635),\n",
       " ('assortment', 0.48510217666625977),\n",
       " ('configurations', 0.4735668897628784),\n",
       " ('earpieces', 0.46533215045928955),\n",
       " ('variety', 0.44576239585876465),\n",
       " ('choices', 0.44565796852111816),\n",
       " ('individual', 0.44294118881225586),\n",
       " ('ways', 0.4386582374572754),\n",
       " ('kinds', 0.43704819679260254),\n",
       " ('adaptors', 0.43534374237060547),\n",
       " ('interchangeable', 0.4307205080986023),\n",
       " ('adapters', 0.4297689199447632),\n",
       " ('positions', 0.426310658454895),\n",
       " ('choose', 0.423108845949173),\n",
       " ('largest', 0.4195912778377533),\n",
       " ('pairs', 0.41837209463119507),\n",
       " ('individually', 0.4109639525413513)]"
      ]
     },
     "execution_count": 156,
     "metadata": {},
     "output_type": "execute_result"
    }
   ],
   "source": [
    "wv.most_similar(['different', 'sizes'], topn=25)"
   ]
  },
  {
   "cell_type": "code",
   "execution_count": 137,
   "metadata": {
    "collapsed": false
   },
   "outputs": [
    {
     "data": {
      "text/plain": [
       "[('retailers', 0.7870277166366577),\n",
       " ('dealer', 0.7712366580963135),\n",
       " ('bestbuy', 0.7514880895614624),\n",
       " ('costco', 0.7403971552848816),\n",
       " ('discount', 0.7256439328193665),\n",
       " ('staples', 0.7133115530014038),\n",
       " ('stores', 0.7011342644691467),\n",
       " ('walmart', 0.6890081167221069),\n",
       " ('store', 0.675402045249939),\n",
       " ('sale', 0.6643613576889038)]"
      ]
     },
     "execution_count": 137,
     "metadata": {},
     "output_type": "execute_result"
    }
   ],
   "source": [
    "wv.most_similar('retailer')"
   ]
  },
  {
   "cell_type": "code",
   "execution_count": 182,
   "metadata": {
    "collapsed": false
   },
   "outputs": [
    {
     "data": {
      "text/plain": [
       "[('ear buds', 239),\n",
       " ('sound quality', 181),\n",
       " ('my ears', 144),\n",
       " ('my ear', 49),\n",
       " ('noise reduction', 45),\n",
       " ('mp3 player', 40),\n",
       " ('your ears', 37),\n",
       " ('my ipod', 36),\n",
       " ('your ear', 35),\n",
       " ('ear bud', 26),\n",
       " ('my music', 22),\n",
       " ('ear pieces', 20),\n",
       " ('price point', 19),\n",
       " ('second pair', 19),\n",
       " ('outside noise', 18),\n",
       " ('low price', 18),\n",
       " ('different sizes', 18),\n",
       " ('quality sound', 17),\n",
       " ('ear canal', 17),\n",
       " ('background noise', 17),\n",
       " ('first pair', 16),\n",
       " ('my wife', 16),\n",
       " ('great price', 14),\n",
       " ('6 months', 14),\n",
       " ('good price', 13),\n",
       " ('mp3 players', 13),\n",
       " ('your money', 13),\n",
       " ('price range', 12),\n",
       " ('my daughter', 12),\n",
       " ('one side', 12),\n",
       " ('head phones', 12),\n",
       " ('ear phones', 12),\n",
       " ('my son', 11),\n",
       " ('bass response', 11),\n",
       " ('my computer', 11),\n",
       " ('cheap headphones', 11),\n",
       " ('great product', 11),\n",
       " ('ambient noise', 11),\n",
       " ('few months', 11),\n",
       " ('other earbuds', 11),\n",
       " ('great value', 11),\n",
       " ('rubber tips', 11),\n",
       " ('good job', 11),\n",
       " ('external noise', 11),\n",
       " ('3 sizes', 11),\n",
       " ('new pair', 11),\n",
       " ('two pairs', 11),\n",
       " ('great deal', 10),\n",
       " ('one ear', 10),\n",
       " ('customer service', 10),\n",
       " ('three sizes', 10),\n",
       " ('first time', 10),\n",
       " ('exactly what', 9),\n",
       " ('3 months', 9),\n",
       " ('small ears', 9),\n",
       " ('old ones', 9),\n",
       " ('good quality', 9),\n",
       " ('ipod earbuds', 9),\n",
       " ('my review', 9),\n",
       " ('my iphone', 9),\n",
       " ('my expectations', 9),\n",
       " ('few weeks', 9),\n",
       " ('year warranty', 9),\n",
       " ('comfortable fit', 8),\n",
       " ('cheap price', 8),\n",
       " ('noise cancellation', 8),\n",
       " ('my opinion', 8),\n",
       " ('audio quality', 8),\n",
       " ('4 stars', 8),\n",
       " ('my pocket', 8),\n",
       " ('my laptop', 8),\n",
       " ('same price', 8),\n",
       " ('ear plugs', 8),\n",
       " ('5 stars', 8),\n",
       " ('my money', 7),\n",
       " ('good reviews', 7),\n",
       " ('other headphones', 7),\n",
       " ('good value', 7),\n",
       " ('jlab jbuds', 7),\n",
       " ('good headphones', 7),\n",
       " ('first set', 7),\n",
       " ('second set', 7),\n",
       " ('good deal', 7),\n",
       " ('price tag', 7),\n",
       " ('ipod nano', 7),\n",
       " ('my husband', 7),\n",
       " ('long periods', 7),\n",
       " ('good bass', 7),\n",
       " ('2 months', 7),\n",
       " ('good thing', 7),\n",
       " ('perfect fit', 7),\n",
       " ('ear phone', 6),\n",
       " ('a year', 6),\n",
       " ('ipod earphones', 6),\n",
       " ('my desk', 6),\n",
       " ('cheap pair', 6),\n",
       " ('extra pair', 6),\n",
       " ('your music', 6),\n",
       " ('great buy', 6),\n",
       " ('left ear', 6)]"
      ]
     },
     "execution_count": 182,
     "metadata": {},
     "output_type": "execute_result"
    }
   ],
   "source": [
    "mc_100 = n_chunk_c.most_common(100)\n",
    "mc_100"
   ]
  },
  {
   "cell_type": "code",
   "execution_count": 185,
   "metadata": {
    "collapsed": false
   },
   "outputs": [
    {
     "ename": "TypeError",
     "evalue": "Argument 'other' has incorrect type (expected spacy.tokens.span.Span, got str)",
     "output_type": "error",
     "traceback": [
      "\u001b[0;31m---------------------------------------------------------------------------\u001b[0m",
      "\u001b[0;31mTypeError\u001b[0m                                 Traceback (most recent call last)",
      "\u001b[0;32m<ipython-input-185-ed2b2f0a398b>\u001b[0m in \u001b[0;36m<module>\u001b[0;34m()\u001b[0m\n\u001b[1;32m      3\u001b[0m     \u001b[0md\u001b[0m \u001b[0;34m=\u001b[0m \u001b[0mtextacy\u001b[0m\u001b[0;34m.\u001b[0m\u001b[0mDoc\u001b[0m\u001b[0;34m(\u001b[0m\u001b[0mreview\u001b[0m\u001b[0;34m)\u001b[0m\u001b[0;34m\u001b[0m\u001b[0m\n\u001b[1;32m      4\u001b[0m     \u001b[0;32mfor\u001b[0m \u001b[0mterm\u001b[0m\u001b[0;34m,\u001b[0m \u001b[0mcount\u001b[0m \u001b[0;32min\u001b[0m \u001b[0mmc_100\u001b[0m\u001b[0;34m:\u001b[0m\u001b[0;34m\u001b[0m\u001b[0m\n\u001b[0;32m----> 5\u001b[0;31m         \u001b[0;32mif\u001b[0m \u001b[0mterm\u001b[0m \u001b[0;32min\u001b[0m \u001b[0mlist\u001b[0m\u001b[0;34m(\u001b[0m\u001b[0mtextacy\u001b[0m\u001b[0;34m.\u001b[0m\u001b[0mextract\u001b[0m\u001b[0;34m.\u001b[0m\u001b[0mnoun_chunks\u001b[0m\u001b[0;34m(\u001b[0m\u001b[0md\u001b[0m\u001b[0;34m)\u001b[0m\u001b[0;34m)\u001b[0m\u001b[0;34m:\u001b[0m\u001b[0;34m\u001b[0m\u001b[0m\n\u001b[0m\u001b[1;32m      6\u001b[0m             \u001b[0mratings\u001b[0m\u001b[0;34m[\u001b[0m\u001b[0mstr\u001b[0m\u001b[0;34m(\u001b[0m\u001b[0mterm\u001b[0m\u001b[0;34m)\u001b[0m\u001b[0;34m]\u001b[0m \u001b[0;34m+=\u001b[0m \u001b[0mrating\u001b[0m \u001b[0;34m-\u001b[0m \u001b[0;36m3\u001b[0m\u001b[0;34m\u001b[0m\u001b[0m\n",
      "\u001b[0;31mTypeError\u001b[0m: Argument 'other' has incorrect type (expected spacy.tokens.span.Span, got str)"
     ]
    }
   ],
   "source": [
    "ratings = defaultdict(int)\n",
    "for rating, review in zip(test_product.overall, test_product.reviewText):\n",
    "    d = textacy.Doc(review)\n",
    "    for term, count in mc_100:\n",
    "        if term in list(textacy.extract.noun_chunks(d)):\n",
    "            ratings[str(term)] += rating - 3"
   ]
  },
  {
   "cell_type": "code",
   "execution_count": 181,
   "metadata": {
    "collapsed": false
   },
   "outputs": [
    {
     "data": {
      "text/plain": [
       "[('bud', 26.600000000000001),\n",
       " ('one', 16.199999999999999),\n",
       " ('ear', 11.938775510204081),\n",
       " ('comfort', 11.695652173913043),\n",
       " ('fit', 11.25),\n",
       " ('use', 9.6071428571428577),\n",
       " ('ones', 8.6666666666666661),\n",
       " ('ears', 8.137931034482758),\n",
       " ('ear bud', 7.7692307692307692),\n",
       " ('purchase', 6.0769230769230766),\n",
       " ('work', 5.9705882352941178),\n",
       " ('day', 4.5384615384615383),\n",
       " ('year', 4.4500000000000002),\n",
       " ('buds', 4.1739130434782608),\n",
       " ('my ear', 3.6122448979591835),\n",
       " ('quality', 3.403225806451613),\n",
       " ('set', 3.2105263157894739),\n",
       " ('way', 3.0476190476190474),\n",
       " ('job', 2.8461538461538463),\n",
       " ('color', 2.7857142857142856),\n",
       " ('time', 2.7708333333333335),\n",
       " ('type', 2.5),\n",
       " ('plug', 2.4705882352941178),\n",
       " ('noise', 2.2873563218390807),\n",
       " ('outside noise', 2.0),\n",
       " ('audiophile', 1.962962962962963),\n",
       " ('case', 1.8888888888888888),\n",
       " ('reason', 1.875),\n",
       " ('ipod', 1.6499999999999999),\n",
       " ('fact', 1.6363636363636365),\n",
       " ('earphones', 1.6000000000000001),\n",
       " ('sound', 1.5725190839694656),\n",
       " ('others', 1.5714285714285714),\n",
       " ('price', 1.5518867924528301),\n",
       " ('highs', 1.4375),\n",
       " ('product', 1.4310344827586208),\n",
       " ('your ear', 1.3999999999999999),\n",
       " ('my wife', 1.375),\n",
       " ('6 months', 1.3571428571428572),\n",
       " ('people', 1.3333333333333333),\n",
       " ('lot', 1.2972972972972974),\n",
       " ('durability', 1.2857142857142858),\n",
       " ('my music', 1.2727272727272727),\n",
       " ('volume', 1.2702702702702702),\n",
       " ('pair', 1.2450980392156863),\n",
       " ('good price', 1.2307692307692308),\n",
       " ('great price', 1.2142857142857142),\n",
       " ('problem', 1.1935483870967742),\n",
       " ('music', 1.1860465116279071),\n",
       " ('difference', 1.1666666666666667),\n",
       " ('cord', 1.1527777777777777),\n",
       " ('gym', 1.1499999999999999),\n",
       " ('money', 1.1000000000000001),\n",
       " ('ear pieces', 1.05),\n",
       " ('replacement', 1.0384615384615385),\n",
       " ('earbuds', 1.0072992700729928),\n",
       " ('things', 1.0),\n",
       " ('company', 1.0),\n",
       " ('headphones', 0.97478991596638653),\n",
       " ('wire', 0.94736842105263153),\n",
       " ('mine', 0.94736842105263153),\n",
       " ('anything', 0.88235294117647056),\n",
       " ('my ears', 0.875),\n",
       " ('low price', 0.83333333333333337),\n",
       " ('different sizes', 0.83333333333333337),\n",
       " ('problems', 0.83333333333333337),\n",
       " ('couple', 0.82352941176470584),\n",
       " ('price point', 0.78947368421052633),\n",
       " ('ear buds', 0.77405857740585771),\n",
       " ('anyone', 0.77272727272727271),\n",
       " ('quality sound', 0.76470588235294112),\n",
       " ('your ears', 0.72972972972972971),\n",
       " ('something', 0.72727272727272729),\n",
       " ('clarity', 0.7142857142857143),\n",
       " ('someone', 0.66666666666666663),\n",
       " ('first pair', 0.625),\n",
       " ('noise reduction', 0.62222222222222223),\n",
       " ('sound quality', 0.60220994475138123),\n",
       " ('wires', 0.57894736842105265),\n",
       " ('mp3 players', 0.53846153846153844),\n",
       " ('week', 0.5),\n",
       " ('bass', 0.46478873239436619),\n",
       " ('my ipod', 0.41666666666666669),\n",
       " ('background noise', 0.41176470588235292),\n",
       " ('nothing', 0.3888888888888889),\n",
       " ('second pair', 0.31578947368421051),\n",
       " ('jlabs', 0.30769230769230771),\n",
       " ('jack', 0.26666666666666666),\n",
       " ('ear canal', 0.23529411764705882),\n",
       " ('mp3 player', 0.22500000000000001),\n",
       " ('bose', 0.16666666666666666),\n",
       " ('item', 0.15384615384615385),\n",
       " ('price range', 0.083333333333333329),\n",
       " ('jbuds', 0.059523809523809521),\n",
       " ('update', 0.052631578947368418),\n",
       " ('amazon', -0.043478260869565216),\n",
       " ('sony', -0.050000000000000003),\n",
       " ('none', -0.30769230769230771),\n",
       " ('reviews', -0.46153846153846156),\n",
       " ('your money', -0.61538461538461542)]"
      ]
     },
     "execution_count": 181,
     "metadata": {},
     "output_type": "execute_result"
    }
   ],
   "source": [
    "sorted([(term, ratings[term]/int(count)) for term, count in mc_100], key=lambda x: x[1], reverse=True)"
   ]
  },
  {
   "cell_type": "code",
   "execution_count": 178,
   "metadata": {
    "collapsed": false
   },
   "outputs": [
    {
     "name": "stdout",
     "output_type": "stream",
     "text": [
      "> \u001b[0;32m<ipython-input-177-94f3ea313f9a>\u001b[0m(2)\u001b[0;36m<listcomp>\u001b[0;34m()\u001b[0m\n",
      "\u001b[0;32m      1 \u001b[0;31m\u001b[0mmc_100_dict\u001b[0m \u001b[0;34m=\u001b[0m \u001b[0mdict\u001b[0m\u001b[0;34m(\u001b[0m\u001b[0mmc_100\u001b[0m\u001b[0;34m)\u001b[0m\u001b[0;34m\u001b[0m\u001b[0m\n",
      "\u001b[0m\u001b[0;32m----> 2 \u001b[0;31m\u001b[0;34m[\u001b[0m\u001b[0;34m(\u001b[0m\u001b[0mterm\u001b[0m\u001b[0;34m,\u001b[0m \u001b[0mrating\u001b[0m\u001b[0;34m[\u001b[0m\u001b[0mterm\u001b[0m\u001b[0;34m]\u001b[0m\u001b[0;34m/\u001b[0m\u001b[0mint\u001b[0m\u001b[0;34m(\u001b[0m\u001b[0mcount\u001b[0m\u001b[0;34m)\u001b[0m\u001b[0;34m)\u001b[0m \u001b[0;32mfor\u001b[0m \u001b[0mterm\u001b[0m\u001b[0;34m,\u001b[0m \u001b[0mcount\u001b[0m \u001b[0;32min\u001b[0m \u001b[0mmc_100\u001b[0m\u001b[0;34m]\u001b[0m\u001b[0;34m\u001b[0m\u001b[0m\n",
      "\u001b[0m\n",
      "ipdb> term\n",
      "'sound'\n",
      "ipdb> count\n",
      "262\n",
      "ipdb> type(term)\n",
      "<class 'str'>\n",
      "ipdb> rating[term]\n",
      "*** IndexError: invalid index to scalar variable.\n",
      "ipdb> q\n"
     ]
    }
   ],
   "source": [
    "%debug"
   ]
  },
  {
   "cell_type": "code",
   "execution_count": null,
   "metadata": {
    "collapsed": true
   },
   "outputs": [],
   "source": []
  }
 ],
 "metadata": {
  "kernelspec": {
   "display_name": "Python 3",
   "language": "python",
   "name": "python3"
  },
  "language_info": {
   "codemirror_mode": {
    "name": "ipython",
    "version": 3
   },
   "file_extension": ".py",
   "mimetype": "text/x-python",
   "name": "python",
   "nbconvert_exporter": "python",
   "pygments_lexer": "ipython3",
   "version": "3.6.0"
  }
 },
 "nbformat": 4,
 "nbformat_minor": 2
}
