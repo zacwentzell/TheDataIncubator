{
 "cells": [
  {
   "cell_type": "markdown",
   "metadata": {},
   "source": [
    "## I aim to find the most import features of products that can be used by companies to know how to maximize customer satisfaction for any new product to be released to the market.\n",
    "\n",
    "## My steps to accomplish this are as follows\n",
    "1. Extract noun phrases from the product reviews. \n",
    "    * Vanilla noun phrases\n",
    "    * Nouns modified with a linking verb\n",
    "2. Use a Doc2Vec model to create vector representations of the extracted noun phrases. The model will be trained over all sentences in the review corpus (approximately 1.7 million reviews of Electronics products on Amazon).\n",
    "3. Using Hierarchical DBSCAN (or other model), find meaningful clusters of the top N noun phrases, where N is a hyperparameter to be tuned for the overall model.\n",
    "4. For each cluster, find the core point closest to all other core points. Using this as the representative product feature for the cluster, propogate the concept to all other points within the cluster.\n",
    "5. Using a Word2Vec model trained on the same review data, subtract the vector of the feature term found in (4) to disambiguate any modifiers that don't have a clear sentiment.\n",
    "6. Build a Linear Model (perhaps with polynomial features) for classification (positive or negative review) or regression (review score) to determine which of the product features have the greatest effect on the overall probability. Models can be fit per product and a bagged ensemble of the k nearest products (by product description similarity) can be used for prediction of a new product. Or models can be fit over entire categories of products"
   ]
  },
  {
   "cell_type": "markdown",
   "metadata": {},
   "source": [
    "### Step 1"
   ]
  },
  {
   "cell_type": "code",
   "execution_count": 3,
   "metadata": {
    "collapsed": true
   },
   "outputs": [],
   "source": [
    "import hdbscan\n",
    "import pandas as pd\n",
    "import spacy\n",
    "import textacy\n",
    "\n",
    "from collections import Counter\n",
    "from gensim.models.doc2vec import Doc2Vec\n",
    "from gensim.models.word2vec import Word2Vec"
   ]
  },
  {
   "cell_type": "code",
   "execution_count": 5,
   "metadata": {
    "collapsed": true
   },
   "outputs": [],
   "source": [
    "nlp = spacy.load('en_core_web_md')"
   ]
  },
  {
   "cell_type": "code",
   "execution_count": 4,
   "metadata": {
    "collapsed": false
   },
   "outputs": [],
   "source": [
    "df = pd.read_csv('./Electronics_5.csv', encoding = 'utf8')\n",
    "meta_df = pd.read_csv('./meta_electronics.csv', encoding = 'utf8')\n",
    "\n",
    "test_df = df[df.asin == 'B003ELYQGG']\n",
    "test_meta = meta_df[meta_df.asin == 'B003ELYQGG']\n",
    "\n",
    "del df\n",
    "del meta_df"
   ]
  },
  {
   "cell_type": "code",
   "execution_count": 7,
   "metadata": {
    "collapsed": false
   },
   "outputs": [
    {
     "data": {
      "text/plain": [
       "\"these are super cheap and mostly you get what you pay for. The sound quality is not that good and they're not as sensitive as some others, but they're ok for the price.\""
      ]
     },
     "execution_count": 7,
     "metadata": {},
     "output_type": "execute_result"
    }
   ],
   "source": [
    "test_df.iloc[0].reviewText"
   ]
  },
  {
   "cell_type": "code",
   "execution_count": 6,
   "metadata": {
    "collapsed": true
   },
   "outputs": [],
   "source": [
    "docs = nlp.pipe(test_df.reviewText.values, n_threads=16)"
   ]
  },
  {
   "cell_type": "code",
   "execution_count": null,
   "metadata": {
    "collapsed": true
   },
   "outputs": [],
   "source": [
    "noun_phrase_counts = Counter()\n",
    "\n",
    "for doc in docs:\n",
    "    these_nps = []\n",
    "    \n",
    "    these_nps.extend([nc.lemma_ for nc in doc.noun_chunks if nc.lemma_ not in ['-PRON-']])\n",
    "    "
   ]
  }
 ],
 "metadata": {
  "kernelspec": {
   "display_name": "Python 3",
   "language": "python",
   "name": "python3"
  },
  "language_info": {
   "codemirror_mode": {
    "name": "ipython",
    "version": 3
   },
   "file_extension": ".py",
   "mimetype": "text/x-python",
   "name": "python",
   "nbconvert_exporter": "python",
   "pygments_lexer": "ipython3",
   "version": "3.6.0"
  }
 },
 "nbformat": 4,
 "nbformat_minor": 2
}
